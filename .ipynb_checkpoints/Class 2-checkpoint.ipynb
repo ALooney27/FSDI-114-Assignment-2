{
 "cells": [
  {
   "cell_type": "code",
   "execution_count": 3,
   "id": "42163960-f380-400f-8ea4-6821dbbd931b",
   "metadata": {},
   "outputs": [
    {
     "name": "stdout",
     "output_type": "stream",
     "text": [
      "11\n"
     ]
    }
   ],
   "source": [
    "def myfunction(n):\n",
    "    return n+1\n",
    "\n",
    "a = 5 + myfunction(5)\n",
    "\n",
    "print(a)"
   ]
  },
  {
   "cell_type": "code",
   "execution_count": 4,
   "id": "cbbad97d-3ac6-4ef9-8b3f-f9f8d7d0b23e",
   "metadata": {},
   "outputs": [],
   "source": [
    "# Simplified implementation of Stack relying on built-in data structures\n",
    "\n",
    "class Stack:\n",
    "    def __init__(self):\n",
    "        self.items = []\n",
    "\n",
    "    def push(self, value):\n",
    "        self.items.append(value)\n",
    "\n",
    "    def pop(self):\n",
    "        return self.items.pop()\n",
    "        \n",
    "    # nice to have methods:\n",
    "    def peek(self):\n",
    "        return self.items[len(self.items-1)]\n",
    "\n",
    "    def size(self):\n",
    "        return len(self.items)\n",
    "\n",
    "    def is_empty(self):\n",
    "        return self.items == []"
   ]
  },
  {
   "cell_type": "code",
   "execution_count": 6,
   "id": "8cedc9d8-eb6c-4d2d-9acb-a523ad476ab0",
   "metadata": {},
   "outputs": [
    {
     "data": {
      "text/plain": [
       "'ynohtnA'"
      ]
     },
     "execution_count": 6,
     "metadata": {},
     "output_type": "execute_result"
    }
   ],
   "source": [
    "\n",
    "def invert_str(mystring):\n",
    "    out = \"\"\n",
    "    stack = Stack()\n",
    "    for char in mystring:\n",
    "        stack.push(char)\n",
    "    while not stack.is_empty():\n",
    "        out += stack.pop()\n",
    "    return out\n",
    "\n",
    "invert_str(\"Anthony\")"
   ]
  },
  {
   "cell_type": "code",
   "execution_count": 8,
   "id": "4a120280-d539-4a06-9074-8cc8cd96cf52",
   "metadata": {},
   "outputs": [
    {
     "name": "stdout",
     "output_type": "stream",
     "text": [
      "139960196366736\n",
      "139960196366704\n"
     ]
    }
   ],
   "source": [
    "# In python native or primary data types all pass by value.\n",
    "# Primary data types in python: int, float, bool and allegedly imaginary numbers.\n",
    "\n",
    "# Demo\n",
    "\n",
    "x = 5\n",
    "y = x\n",
    "\n",
    "x += 1\n",
    "\n",
    "print(id(x))\n",
    "print(id(y))"
   ]
  },
  {
   "cell_type": "code",
   "execution_count": 12,
   "id": "31308a50-8df4-4eb1-8e3f-ee7248b972e8",
   "metadata": {},
   "outputs": [],
   "source": [
    "# From scratch implementation of stack\n",
    "\n",
    "class StackII:\n",
    "    class __Node:\n",
    "        def __init__(self, data):\n",
    "            self.data = data\n",
    "            self.below = None\n",
    "    def __init__(self):\n",
    "        self.top = None\n",
    "\n",
    "    def push(self, value):\n",
    "        new_node = self.__Node(value)\n",
    "        if not self.top:\n",
    "            self.top = new_node\n",
    "        else:\n",
    "            current = self.top\n",
    "            self.top = new_node\n",
    "            new_node.below = current\n",
    "\n",
    "    def pop(self):\n",
    "        if self.top:\n",
    "            datum = self.top.data\n",
    "            self.top = self.top.below\n",
    "            return datum\n",
    "        raise IndexError(\"Stack is empty\")\n",
    "\n",
    "    # Nice to have methods:\n",
    "    def peek(self):\n",
    "        if not self.top:\n",
    "            raise IndexError(\"Stack is empty\")\n",
    "        else:\n",
    "            return self.top.data\n",
    "\n",
    "    def size(self):\n",
    "        # 0(n)\n",
    "        total = 0\n",
    "        if self.top:\n",
    "            current = self.top\n",
    "            while current:\n",
    "                current = current.below\n",
    "                total += 1\n",
    "        return total\n",
    "\n",
    "    def is_empty(self):\n",
    "        return self.top == None"
   ]
  },
  {
   "cell_type": "code",
   "execution_count": null,
   "id": "9838a78d-3b1b-4da2-805b-186b397290b3",
   "metadata": {},
   "outputs": [],
   "source": []
  }
 ],
 "metadata": {
  "kernelspec": {
   "display_name": "Python 3 (ipykernel)",
   "language": "python",
   "name": "python3"
  },
  "language_info": {
   "codemirror_mode": {
    "name": "ipython",
    "version": 3
   },
   "file_extension": ".py",
   "mimetype": "text/x-python",
   "name": "python",
   "nbconvert_exporter": "python",
   "pygments_lexer": "ipython3",
   "version": "3.10.12"
  }
 },
 "nbformat": 4,
 "nbformat_minor": 5
}
